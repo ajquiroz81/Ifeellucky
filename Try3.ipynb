{
  "nbformat": 4,
  "nbformat_minor": 0,
  "metadata": {
    "colab": {
      "provenance": [],
      "authorship_tag": "ABX9TyNSW8Yw+h3yVqjmBGIVeEO6",
      "include_colab_link": true
    },
    "kernelspec": {
      "name": "python3",
      "display_name": "Python 3"
    },
    "language_info": {
      "name": "python"
    }
  },
  "cells": [
    {
      "cell_type": "markdown",
      "metadata": {
        "id": "view-in-github",
        "colab_type": "text"
      },
      "source": [
        "<a href=\"https://colab.research.google.com/github/ajquiroz81/Ifeellucky/blob/master/Try3.ipynb\" target=\"_parent\"><img src=\"https://colab.research.google.com/assets/colab-badge.svg\" alt=\"Open In Colab\"/></a>"
      ]
    },
    {
      "cell_type": "code",
      "execution_count": 11,
      "metadata": {
        "colab": {
          "base_uri": "https://localhost:8080/"
        },
        "id": "I8cKeBmqgN7o",
        "outputId": "714eebb5-74a5-416f-ff53-7a5331efe9e6"
      },
      "outputs": [
        {
          "output_type": "stream",
          "name": "stdout",
          "text": [
            "                    fec_alta          user_name  ...              fec_birthday   id\n",
            "0   2021-04-04T07:00:50.276Z   Filomena.Collins  ...  2022-03-28T21:18:02.439Z    1\n",
            "1   2021-07-31T00:11:06.741Z           Junior39  ...  2022-03-29T03:28:16.364Z    2\n",
            "2   2021-10-24T02:30:07.389Z   Ethelyn.Schinner  ...  2022-03-29T13:20:05.602Z    3\n",
            "3   2022-03-08T12:33:32.643Z            Lonie85  ...  2022-03-29T14:44:48.206Z    4\n",
            "4   2022-02-13T07:34:03.796Z       Jakob.Cremin  ...  2022-03-29T10:54:26.252Z    5\n",
            "..                       ...                ...  ...                       ...  ...\n",
            "95  2021-07-16T06:58:57.378Z   Holden_McClure47  ...  2022-03-29T17:39:39.571Z   96\n",
            "96  2021-12-14T05:40:04.143Z  Alayna_Gusikowski  ...  2022-03-28T20:45:47.425Z   97\n",
            "97  2021-04-29T19:14:06.046Z     Noel_Ondricka1  ...  2022-03-29T08:48:43.817Z   98\n",
            "98  2022-01-03T10:13:27.995Z              Ora53  ...  2022-03-28T23:02:50.140Z   99\n",
            "99  2021-10-20T09:37:15.640Z      Sharon.Larson  ...  2022-03-29T14:09:15.155Z  100\n",
            "\n",
            "[100 rows x 20 columns]\n"
          ]
        }
      ],
      "source": [
        "from urllib.request import urlopen\n",
        "import requests\n",
        "import json\n",
        "import pandas as pd\n",
        "from pandas import json_normalize\n",
        "url=\"https://62433a7fd126926d0c5d296b.mockapi.io/api/v1/usuarios\"\n",
        "response = urlopen(url)\n",
        "data_json = json.loads(response.read())\n",
        "df2 = pd.DataFrame.from_dict(data_json)\n",
        "print(df2)\n"
      ]
    }
  ]
}